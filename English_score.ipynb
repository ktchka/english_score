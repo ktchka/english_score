{
 "cells": [
  {
   "cell_type": "markdown",
   "id": "58b8563b",
   "metadata": {},
   "source": [
    "# Определение уровня сложности фильма для изучения английского\n",
    "\n",
    "Данный проект направлен на разработку модели, которая может автоматически определять уровень сложности англоязычных фильмов, облегчая выбор фильмов по уровню владения языком.\n",
    "\n",
    "Входные данные состоят из набора помеченных данных с названиями фильмов, субтитрами и метками уровня владения языком (A1/A2/B1/B2/C1/C2). Из-за большого количества классов наиболее подходящей метрикой для использования будет F1-score."
   ]
  },
  {
   "cell_type": "markdown",
   "id": "d5ff3b13",
   "metadata": {},
   "source": [
    "### Loading and preprocessing data"
   ]
  },
  {
   "cell_type": "code",
   "execution_count": 49,
   "id": "cfec5692",
   "metadata": {},
   "outputs": [],
   "source": [
    "#!pip install pysrt\n",
    "#!pip install nltk\n",
    "#!pip install -U spacy\n",
    "#!python -m spacy download en_core_web_sm"
   ]
  },
  {
   "cell_type": "code",
   "execution_count": 50,
   "id": "75768730",
   "metadata": {},
   "outputs": [],
   "source": [
    "#!pip install openpyxl"
   ]
  },
  {
   "cell_type": "code",
   "execution_count": 8,
   "id": "63c765b0",
   "metadata": {},
   "outputs": [],
   "source": [
    "# imports\n",
    "import os, re\n",
    "import pandas as pd\n",
    "import numpy as np\n",
    "import matplotlib.pyplot as plt\n",
    "import pysrt\n",
    "from pickle import dump\n",
    "\n",
    "import nltk \n",
    "from nltk.corpus import stopwords as nltk_stopwords\n",
    "\n",
    "import spacy\n",
    "\n",
    "from sklearn.feature_extraction.text import CountVectorizer, TfidfTransformer\n",
    "from sklearn.linear_model import SGDClassifier\n",
    "from sklearn.pipeline import Pipeline\n",
    "from sklearn.model_selection import train_test_split, GridSearchCV\n",
    "from sklearn.metrics import classification_report, f1_score\n",
    "\n",
    "import warnings\n",
    "warnings.filterwarnings(\"ignore\")"
   ]
  },
  {
   "cell_type": "code",
   "execution_count": 9,
   "id": "f635d29a",
   "metadata": {},
   "outputs": [],
   "source": [
    "#/Users/ktchka/Downloads/English_level/English_scores/Subtitles_all\n",
    "\n",
    "def load_srt_from_folder(folder):\n",
    "    \"\"\"\n",
    "    Find and load files with .srt extention in the folder.\n",
    "    \"\"\"\n",
    "    \n",
    "    root_dir = f'English_level/English_scores/Subtitles_all/{folder}/'\n",
    "    subtitles, movies = [], []\n",
    "    \n",
    "    # find all the subtitle files with an .srt extension in root_dir\n",
    "    for dirpath, dirnames, filenames in os.walk(root_dir):\n",
    "        for filename in filenames:\n",
    "            if filename.endswith(\".srt\"):\n",
    "                filepath = os.path.join(dirpath, filename)\n",
    "                movies.append(filename[:-4]) # the movie name\n",
    "                \n",
    "                movie_subs = pysrt.open(filepath, encoding='iso-8859-1')\n",
    "                movie_subs = [sub.text for sub in movie_subs]\n",
    "                subtitles.append(' '.join(movie_subs))\n",
    "    \n",
    "    print(f'Subtitles: {len(subtitles)} files from {folder} loaded.')\n",
    "    \n",
    "    # to dataframe\n",
    "    subtitles_df = pd.DataFrame({'movie': movies,\n",
    "                                'text': subtitles})\n",
    "    return subtitles_df"
   ]
  },
  {
   "cell_type": "code",
   "execution_count": 10,
   "id": "038957e1",
   "metadata": {},
   "outputs": [
    {
     "name": "stdout",
     "output_type": "stream",
     "text": [
      "Subtitles: 79 files from A2 loaded.\n",
      "Subtitles: 80 files from B1 loaded.\n",
      "Subtitles: 112 files from B2 loaded.\n",
      "Subtitles: 77 files from C1 loaded.\n"
     ]
    }
   ],
   "source": [
    "# load data from folders to dataframe\n",
    "subs_df = pd.DataFrame(columns=['movie', 'text', 'level'])\n",
    "\n",
    "for level in ['A2', 'B1', 'B2', 'C1']:\n",
    "    part_subs_df = load_srt_from_folder(level)\n",
    "    part_subs_df['level'] = level\n",
    "    \n",
    "    subs_df = pd.concat([subs_df, part_subs_df])   "
   ]
  },
  {
   "cell_type": "code",
   "execution_count": 11,
   "id": "c0677242",
   "metadata": {},
   "outputs": [
    {
     "data": {
      "text/html": [
       "<div>\n",
       "<style scoped>\n",
       "    .dataframe tbody tr th:only-of-type {\n",
       "        vertical-align: middle;\n",
       "    }\n",
       "\n",
       "    .dataframe tbody tr th {\n",
       "        vertical-align: top;\n",
       "    }\n",
       "\n",
       "    .dataframe thead th {\n",
       "        text-align: right;\n",
       "    }\n",
       "</style>\n",
       "<table border=\"1\" class=\"dataframe\">\n",
       "  <thead>\n",
       "    <tr style=\"text-align: right;\">\n",
       "      <th></th>\n",
       "      <th>movie</th>\n",
       "      <th>text</th>\n",
       "      <th>level</th>\n",
       "    </tr>\n",
       "  </thead>\n",
       "  <tbody>\n",
       "    <tr>\n",
       "      <th>0</th>\n",
       "      <td>Minions.2015.1080p.BluRay.H264.AAC-RARBG_15472...</td>\n",
       "      <td>Subtitle created by &lt;font color=\"#ffff00\"&gt;- Ao...</td>\n",
       "      <td>A2</td>\n",
       "    </tr>\n",
       "    <tr>\n",
       "      <th>1</th>\n",
       "      <td>Winnie.the.Pooh.2011.720p.BrRip.X264.YIFY_1543...</td>\n",
       "      <td>Genenrated by: Team21@duasatu.com [Whistling] ...</td>\n",
       "      <td>A2</td>\n",
       "    </tr>\n",
       "    <tr>\n",
       "      <th>2</th>\n",
       "      <td>Turbo.2013.1080p.BluRay.H264.AAC-RARBG_1547227...</td>\n",
       "      <td>&lt;i&gt;And we're back at the final stretch\\nof the...</td>\n",
       "      <td>A2</td>\n",
       "    </tr>\n",
       "    <tr>\n",
       "      <th>3</th>\n",
       "      <td>The Walking Dead-S01E03-Tell It To The Frogs.E...</td>\n",
       "      <td>( thunder rumbling ) Merle:\\nThat's right. You...</td>\n",
       "      <td>A2</td>\n",
       "    </tr>\n",
       "    <tr>\n",
       "      <th>4</th>\n",
       "      <td>Tinker_Bell_and_the_Great_Fairy_Rescue__2010__...</td>\n",
       "      <td>&lt;i&gt;Some people\\nsay that fairies are the stuff...</td>\n",
       "      <td>A2</td>\n",
       "    </tr>\n",
       "  </tbody>\n",
       "</table>\n",
       "</div>"
      ],
      "text/plain": [
       "                                               movie  \\\n",
       "0  Minions.2015.1080p.BluRay.H264.AAC-RARBG_15472...   \n",
       "1  Winnie.the.Pooh.2011.720p.BrRip.X264.YIFY_1543...   \n",
       "2  Turbo.2013.1080p.BluRay.H264.AAC-RARBG_1547227...   \n",
       "3  The Walking Dead-S01E03-Tell It To The Frogs.E...   \n",
       "4  Tinker_Bell_and_the_Great_Fairy_Rescue__2010__...   \n",
       "\n",
       "                                                text level  \n",
       "0  Subtitle created by <font color=\"#ffff00\">- Ao...    A2  \n",
       "1  Genenrated by: Team21@duasatu.com [Whistling] ...    A2  \n",
       "2  <i>And we're back at the final stretch\\nof the...    A2  \n",
       "3  ( thunder rumbling ) Merle:\\nThat's right. You...    A2  \n",
       "4  <i>Some people\\nsay that fairies are the stuff...    A2  "
      ]
     },
     "execution_count": 11,
     "metadata": {},
     "output_type": "execute_result"
    }
   ],
   "source": [
    "subs_df.head()\n"
   ]
  },
  {
   "cell_type": "code",
   "execution_count": 21,
   "id": "165b8d45",
   "metadata": {},
   "outputs": [
    {
     "name": "stdout",
     "output_type": "stream",
     "text": [
      "Subtitles: 115 files from Subtitles loaded.\n"
     ]
    },
    {
     "data": {
      "text/html": [
       "<div>\n",
       "<style scoped>\n",
       "    .dataframe tbody tr th:only-of-type {\n",
       "        vertical-align: middle;\n",
       "    }\n",
       "\n",
       "    .dataframe tbody tr th {\n",
       "        vertical-align: top;\n",
       "    }\n",
       "\n",
       "    .dataframe thead th {\n",
       "        text-align: right;\n",
       "    }\n",
       "</style>\n",
       "<table border=\"1\" class=\"dataframe\">\n",
       "  <thead>\n",
       "    <tr style=\"text-align: right;\">\n",
       "      <th></th>\n",
       "      <th>movie</th>\n",
       "      <th>text</th>\n",
       "      <th>level</th>\n",
       "    </tr>\n",
       "  </thead>\n",
       "  <tbody>\n",
       "    <tr>\n",
       "      <th>0</th>\n",
       "      <td>Dredd(2012)</td>\n",
       "      <td>America is an irradiated wasteIand. Within it ...</td>\n",
       "      <td>A2/A2+</td>\n",
       "    </tr>\n",
       "    <tr>\n",
       "      <th>1</th>\n",
       "      <td>Despicable_Me(2010)</td>\n",
       "      <td>Excuse me, sir,\\nis there a commode? Justin! Q...</td>\n",
       "      <td>B2</td>\n",
       "    </tr>\n",
       "    <tr>\n",
       "      <th>2</th>\n",
       "      <td>The_secret_life_of_Walter_Mitty(2013)</td>\n",
       "      <td>Huh? Hi! Todd Mahar,\\neHarmony. How can I help...</td>\n",
       "      <td>B1</td>\n",
       "    </tr>\n",
       "    <tr>\n",
       "      <th>3</th>\n",
       "      <td>Shrek(2001)</td>\n",
       "      <td>anoXmous\\nhttps://thepiratebay.se/user/Zen_Bud...</td>\n",
       "      <td>B1</td>\n",
       "    </tr>\n",
       "    <tr>\n",
       "      <th>4</th>\n",
       "      <td>Deadpool(2016)</td>\n",
       "      <td>&lt;font color=#32a615&gt;&lt;b&gt;WordsKill&lt;/b&gt;&lt;/font&gt;\\n&lt;...</td>\n",
       "      <td>B2</td>\n",
       "    </tr>\n",
       "  </tbody>\n",
       "</table>\n",
       "</div>"
      ],
      "text/plain": [
       "                                   movie  \\\n",
       "0                            Dredd(2012)   \n",
       "1                    Despicable_Me(2010)   \n",
       "2  The_secret_life_of_Walter_Mitty(2013)   \n",
       "3                            Shrek(2001)   \n",
       "4                         Deadpool(2016)   \n",
       "\n",
       "                                                text   level  \n",
       "0  America is an irradiated wasteIand. Within it ...  A2/A2+  \n",
       "1  Excuse me, sir,\\nis there a commode? Justin! Q...      B2  \n",
       "2  Huh? Hi! Todd Mahar,\\neHarmony. How can I help...      B1  \n",
       "3  anoXmous\\nhttps://thepiratebay.se/user/Zen_Bud...      B1  \n",
       "4  <font color=#32a615><b>WordsKill</b></font>\\n<...      B2  "
      ]
     },
     "execution_count": 21,
     "metadata": {},
     "output_type": "execute_result"
    }
   ],
   "source": [
    "# also the mixed data present in 'Subtitles' folder\n",
    "mixed_movies = load_srt_from_folder('Subtitles')\n",
    "\n",
    "# labels for the movies in excel file\n",
    "labels = pd.read_csv(r'English_level/English_scores/movies_labels.csv', delimiter=';')\n",
    "labels = labels.drop(columns='id').rename(columns={'Movie':'movie', 'Level':'level'})\n",
    "\n",
    "# join level labels\n",
    "mixed_movies = mixed_movies.merge(labels, on='movie', how='left')\n",
    "mixed_movies.head()"
   ]
  },
  {
   "cell_type": "code",
   "execution_count": 22,
   "id": "18ccf609",
   "metadata": {},
   "outputs": [
    {
     "data": {
      "text/html": [
       "<div>\n",
       "<style scoped>\n",
       "    .dataframe tbody tr th:only-of-type {\n",
       "        vertical-align: middle;\n",
       "    }\n",
       "\n",
       "    .dataframe tbody tr th {\n",
       "        vertical-align: top;\n",
       "    }\n",
       "\n",
       "    .dataframe thead th {\n",
       "        text-align: right;\n",
       "    }\n",
       "</style>\n",
       "<table border=\"1\" class=\"dataframe\">\n",
       "  <thead>\n",
       "    <tr style=\"text-align: right;\">\n",
       "      <th></th>\n",
       "      <th>movie</th>\n",
       "      <th>text</th>\n",
       "      <th>level</th>\n",
       "    </tr>\n",
       "  </thead>\n",
       "  <tbody>\n",
       "  </tbody>\n",
       "</table>\n",
       "</div>"
      ],
      "text/plain": [
       "Empty DataFrame\n",
       "Columns: [movie, text, level]\n",
       "Index: []"
      ]
     },
     "execution_count": 22,
     "metadata": {},
     "output_type": "execute_result"
    }
   ],
   "source": [
    "# duplicates\n",
    "duplicated_movies = subs_df.loc[subs_df.duplicated(subset=['movie']), 'movie'].to_list()\n",
    "subs_df[subs_df['movie'].isin(duplicated_movies)]"
   ]
  },
  {
   "cell_type": "code",
   "execution_count": 23,
   "id": "a6584ece",
   "metadata": {},
   "outputs": [
    {
     "name": "stdout",
     "output_type": "stream",
     "text": [
      "Amount: 467\n"
     ]
    }
   ],
   "source": [
    "# join last part of movies\n",
    "subs_df = pd.concat([subs_df, mixed_movies])\n",
    "print(f'Amount: {subs_df.shape[0]}')"
   ]
  },
  {
   "cell_type": "code",
   "execution_count": 24,
   "id": "a9dd536b",
   "metadata": {},
   "outputs": [
    {
     "data": {
      "text/html": [
       "<div>\n",
       "<style scoped>\n",
       "    .dataframe tbody tr th:only-of-type {\n",
       "        vertical-align: middle;\n",
       "    }\n",
       "\n",
       "    .dataframe tbody tr th {\n",
       "        vertical-align: top;\n",
       "    }\n",
       "\n",
       "    .dataframe thead th {\n",
       "        text-align: right;\n",
       "    }\n",
       "</style>\n",
       "<table border=\"1\" class=\"dataframe\">\n",
       "  <thead>\n",
       "    <tr style=\"text-align: right;\">\n",
       "      <th></th>\n",
       "      <th>movie</th>\n",
       "      <th>text</th>\n",
       "      <th>level</th>\n",
       "    </tr>\n",
       "  </thead>\n",
       "  <tbody>\n",
       "    <tr>\n",
       "      <th>25</th>\n",
       "      <td>Powder(1995)</td>\n",
       "      <td>EMT 1:\\nAll right, people,\\nlet's move! Let's ...</td>\n",
       "      <td>B1</td>\n",
       "    </tr>\n",
       "    <tr>\n",
       "      <th>26</th>\n",
       "      <td>Powder(1995)</td>\n",
       "      <td>EMT 1:\\nAll right, people,\\nlet's move! Let's ...</td>\n",
       "      <td>B1</td>\n",
       "    </tr>\n",
       "    <tr>\n",
       "      <th>37</th>\n",
       "      <td>The_terminal(2004)</td>\n",
       "      <td>&lt;font color=\"#D900D9\"&gt;(AIRPLANE APPROACHES)&lt;/f...</td>\n",
       "      <td>B1</td>\n",
       "    </tr>\n",
       "    <tr>\n",
       "      <th>38</th>\n",
       "      <td>The_terminal(2004)</td>\n",
       "      <td>&lt;font color=\"#D900D9\"&gt;(AIRPLANE APPROACHES)&lt;/f...</td>\n",
       "      <td>A2/A2+, B1</td>\n",
       "    </tr>\n",
       "    <tr>\n",
       "      <th>100</th>\n",
       "      <td>The_blind_side(2009)</td>\n",
       "      <td>[CROWD CHEERING IN DISTANCE] LElGH ANNE: There...</td>\n",
       "      <td>B2</td>\n",
       "    </tr>\n",
       "    <tr>\n",
       "      <th>101</th>\n",
       "      <td>The_blind_side(2009)</td>\n",
       "      <td>[CROWD CHEERING IN DISTANCE] LElGH ANNE: There...</td>\n",
       "      <td>B1</td>\n",
       "    </tr>\n",
       "    <tr>\n",
       "      <th>103</th>\n",
       "      <td>Inside_out(2015)</td>\n",
       "      <td>Advertise your product or brand here&lt;br/&gt;conta...</td>\n",
       "      <td>B1</td>\n",
       "    </tr>\n",
       "    <tr>\n",
       "      <th>104</th>\n",
       "      <td>Inside_out(2015)</td>\n",
       "      <td>Advertise your product or brand here&lt;br/&gt;conta...</td>\n",
       "      <td>B1</td>\n",
       "    </tr>\n",
       "  </tbody>\n",
       "</table>\n",
       "</div>"
      ],
      "text/plain": [
       "                    movie                                               text  \\\n",
       "25           Powder(1995)  EMT 1:\\nAll right, people,\\nlet's move! Let's ...   \n",
       "26           Powder(1995)  EMT 1:\\nAll right, people,\\nlet's move! Let's ...   \n",
       "37     The_terminal(2004)  <font color=\"#D900D9\">(AIRPLANE APPROACHES)</f...   \n",
       "38     The_terminal(2004)  <font color=\"#D900D9\">(AIRPLANE APPROACHES)</f...   \n",
       "100  The_blind_side(2009)  [CROWD CHEERING IN DISTANCE] LElGH ANNE: There...   \n",
       "101  The_blind_side(2009)  [CROWD CHEERING IN DISTANCE] LElGH ANNE: There...   \n",
       "103      Inside_out(2015)  Advertise your product or brand here<br/>conta...   \n",
       "104      Inside_out(2015)  Advertise your product or brand here<br/>conta...   \n",
       "\n",
       "          level  \n",
       "25           B1  \n",
       "26           B1  \n",
       "37           B1  \n",
       "38   A2/A2+, B1  \n",
       "100          B2  \n",
       "101          B1  \n",
       "103          B1  \n",
       "104          B1  "
      ]
     },
     "execution_count": 24,
     "metadata": {},
     "output_type": "execute_result"
    }
   ],
   "source": [
    "# duplicates\n",
    "duplicated_movies = subs_df.loc[subs_df.duplicated(subset=['movie']), 'movie'].to_list()\n",
    "subs_df[subs_df['movie'].isin(duplicated_movies)]"
   ]
  },
  {
   "cell_type": "code",
   "execution_count": 25,
   "id": "fd49c957",
   "metadata": {},
   "outputs": [],
   "source": [
    "subs_df = subs_df[~subs_df.duplicated(subset='movie')]\n",
    "subs_df.reset_index(drop=True, inplace=True)"
   ]
  },
  {
   "cell_type": "code",
   "execution_count": 26,
   "id": "908c1d03",
   "metadata": {},
   "outputs": [
    {
     "data": {
      "text/plain": [
       "9"
      ]
     },
     "execution_count": 26,
     "metadata": {},
     "output_type": "execute_result"
    }
   ],
   "source": [
    "# gaps in level column\n",
    "subs_df[subs_df['level'].isna()].shape[0]"
   ]
  },
  {
   "cell_type": "code",
   "execution_count": 27,
   "id": "7029552c",
   "metadata": {},
   "outputs": [],
   "source": [
    "# delete movies without labels\n",
    "subs_df = subs_df[~subs_df['level'].isna()]"
   ]
  },
  {
   "cell_type": "code",
   "execution_count": 28,
   "id": "36cce9b9",
   "metadata": {},
   "outputs": [
    {
     "data": {
      "text/plain": [
       "B2            141\n",
       "B1            114\n",
       "C1             83\n",
       "A2             79\n",
       "A2/A2+         25\n",
       "B1, B2          8\n",
       "A2/A2+, B1      4\n",
       "Name: level, dtype: int64"
      ]
     },
     "execution_count": 28,
     "metadata": {},
     "output_type": "execute_result"
    }
   ],
   "source": [
    "# unique level values\n",
    "subs_df['level'].value_counts()"
   ]
  },
  {
   "cell_type": "markdown",
   "id": "16f04366",
   "metadata": {},
   "source": [
    "Поменяем двойный лейблы - возьмем низкий уровень"
   ]
  },
  {
   "cell_type": "code",
   "execution_count": 29,
   "id": "2eafc95c",
   "metadata": {},
   "outputs": [],
   "source": [
    "subs_df['level'] = (subs_df['level']\n",
    "                    .replace('A2/A2+', 'A2')\n",
    "                    .replace('A2/A2+, B1', 'A2')\n",
    "                    .replace('B1, B2', 'B1'))"
   ]
  },
  {
   "cell_type": "code",
   "execution_count": 30,
   "id": "96600a4b",
   "metadata": {},
   "outputs": [
    {
     "data": {
      "text/plain": [
       "B2    141\n",
       "B1    122\n",
       "A2    108\n",
       "C1     83\n",
       "Name: level, dtype: int64"
      ]
     },
     "execution_count": 30,
     "metadata": {},
     "output_type": "execute_result"
    }
   ],
   "source": [
    "subs_df['level'].value_counts()\n"
   ]
  },
  {
   "cell_type": "code",
   "execution_count": 31,
   "id": "8d7fe940",
   "metadata": {},
   "outputs": [
    {
     "data": {
      "image/png": "[encoded data removed]",
      "text/plain": [
       "<Figure size 640x480 with 1 Axes>"
      ]
     },
     "metadata": {},
     "output_type": "display_data"
    }
   ],
   "source": [
    "subs_df['level'].hist()\n",
    "plt.show()"
   ]
  },
  {
   "cell_type": "markdown",
   "id": "b570822d",
   "metadata": {},
   "source": [
    "Есть дисбалланс классов, но датасет небольшой, поэтому оставим как есть"
   ]
  },
  {
   "cell_type": "code",
   "execution_count": 32,
   "id": "9054e54c",
   "metadata": {},
   "outputs": [
    {
     "data": {
      "text/plain": [
       "'This is New Berk at Snoggletog,\\nthe greatest time of the year. The lights, the hunting songs, the holiday shopping... - Oh!\\n- Uh-huh. - Skoal!\\n- Cheers! ...the yak-nog shooters. - Another round!\\n- Double! The only thing missing... was dragons. It\\'s been ten years since Vikings and dragons agreed to live apart, but that doesn\\'t mean we\\'ve forgotten our flying friends. And the best part of it all, Nuffink,\\nwas on Snoggletog Eve... - Yeah.\\n- I\\'d make Toothless his favorite meal. - What was it?\\n- Lake trout... - Yeah?\\n- ...with a side of sea trout... - Yeah?\\n- ...on a bed of brook trout. We all like trout! And even though he\\'s gone, I still make it for him. A lot of families do stuff like this. It keeps our loved ones in our hearts,\\neven though they\\'re far away. So, wanna help me catch some fish? Good on you! We\\'re gonna feed Toothless! I don\\'t need a fishing pole, Dad. I\\'ll just butt the wee fishies on their own wee head! - Ow.\\n- Ah. Ow. Ow! Come on. Let\\'s get Toothless a snack. Hey! We were excited about making a traditional dragon feast. And then it hit me. Oh! Not everyone was on board. Yes! It worked! Zephyr, what are you doing? Testing my dragon defense system. You and all the grown-ups in\\nNew Berk are leaving them snacks. What if one shows up? What... That would be great! We love dragons. Why? They\\'re monsters. - Oh... Uh...\\n- Uh... I found this in the attic. It was Grandpa\\'s. How come you never told us the truth about dragons? But we did. Dragons are wonderful. They\\'re our friends. Tell me this... Are they giant? - Well, yeah.\\n- Razor-sharp teeth? - Uh...\\n- Breathe fire? - I suppose so.\\n- Claws? - Yes.\\n- What happened to your leg? Oh! Oh! Uh... That\\'s what I thought. Maybe we don\\'t leave fish snacks around to attract them. \\'Cause you know who doesn\\'t wanna be dragon dessert? Me! Nuffink, do you wanna be dessert for a dragon? Mm... methinks I don\\'t. Let\\'s kill the dragons! How did this happen? Our ancestors were terrified of dragons\\nbecause they didn\\'t know them. Astrid, we cannot let our kids go down that road. Remember when we were kids, back in Old Berk, how we used to put on a pageant at Snoggletog? Oh, yeah. Those were fun. What if we brought the pageant back? We showed the children of New Berk how humans and dragons became friends. That\\'s a great idea! But we\\'ve only got four days until Snoggletog. Three if you don\\'t count Black Plague Friday. Yeah, nothing gets done. Everybody\\'s just shopping and coughing. - More spikes.\\n- I think we can do this! Let\\'s talk to Gobber. Ooh! You got me! Kid can take a hit. - Hey, are you okay?\\n- Yeah, yeah. It\\'s just all this talk of dragons\\nkind of makes me miss him. It\\'s hard at the holidays, you know. I wonder if Toothless ever misses me. Yeah! That\\'s two for me. Curse ye, hellions! How dare ye desecrate the statue of Stoick the Vast? - Who?\\n- Stoick! The bravest Viking in the history of Berk! He put the \"king\" in Vi-king! Huh? Oh, my dear mate, I miss you so. Remember the time we were at that mead house and those two Visigoths wagered\\nI couldn\\'t hold my left elbow in a boiling pot of gruel for five minutes? Ah, good times. - Uh, Gobber.\\n- Hey, kids. I was just talking to a statue of your\\nfather as if he were really here. It pains me how the wee ones of\\nthis town have forgotten Stoick. I know, and Zephyr is afraid of dragons. That\\'s why we wanna bring back the Snoggletog pageant. You\\'re in luck. The script I wrote for the last pageant. Die, you evil beasts with twisted souls! Vikings will forever swim in rivers of your blood! Oh, uh, that\\'s nasty. - This has not aged well.\\n- Mm. We may need to start from scratch. Why don\\'t we show when everything changed? Oh, that would be fantastic! - Uh, like when I met Toothless and...\\n- Maybe more big-picture, honey. When all Vikings and dragons became friends. Oh, Astrid, I love that. I\\'ll start writing immediately. This is gonna be just what we need to honor our friendship with dragons and, of course... my great friend... Stoick. O-kay... Hiccup, I\\'ve been up all night. It\\'s just a first draft, but I\\'m gonna be honest. It\\'s brilliant! Oh! Toothless? Pretty great, right? Amazing! Wait a minute. I\\'ve got an idea. We should use this for the pageant! Well, yeah, that\\'s, that\\'s... Gee, I never would\\'ve thought of that. I\\'m gonna make him look so much like Toothless, Zephyr\\'s gonna fall in love with him. He\\'s beautiful. But cogs and gears can\\'t bring back the warmth of your friend\\'s nose or the light in his eyes. Or the sound of your best friend\\'s voice. Yeah, I-I miss my dad, too, Gobber. Ah, we\\'ll make them both proud. It was a couple of days before Snoggletog, and I was getting excited about the pageant... Oh! Ah. Uh-uh. - And then it hit me.\\n- Aah! Yes! It works! We\\'re going to catch a dragon, Dad! Knock him cold so he can\\'t eat us! Zephyr designed the whole trap herself. - D\\'ah, so proud!\\n- Come on, Nuffink. Let\\'s set some traps outside. - Come on!\\n- â\\x99ª We\\'re gonna kill a dragon! â\\x99ª - What did I say\\nabout the good knives?\\n- Help. - â\\x99ª Gonna kill a dragon! â\\x99ª\\n- Kids! - Anybody... Okay.\\n- â\\x99ª We\\'re gonna catch a dragon! This pageant better work. - Coming through.\\n- Great news, Chief. After exhaustive casting, we\\'ve found our Hiccup. Yeah, Gobber, actually, I wanted to ask you about the whole Hiccup character in the story. Hiccup, present yourself! - Tuffnut?\\n- Tuffnut, give us a taste. Uh, a dragon is coming. Aah! Help me. Help... uh... - Uh, line?\\n- Me. - Right. Me.\\n- Are you... Great! Now let\\'s see you run away in fear. Oh, look at those knock-knees. - Okay.\\n- The splayed gait of a newborn lamb. I do not run like that. Do I run like that? Which brings me to a bigger point. Um, I read the script, Gobber, and I have some notes. I\\'m not sure the character of Hiccup is coming through, uh, quite as heroic as I was. I... I was pretty heroic, no? Oh, mate, I think we got the gist of it. But that\\'s not, in any way, me. Hey, Hiccup, I was... Oh. - Eh!\\n- Are you serious? Coming through! Better luck next time, Haggis. Nice effort. Who\\'s next? Fishlegs Ingerman reading for the role of Stoick the Vast. If I don\\'t return... Nope, nope. If I don\\'t return, know that all I am, all I do is for you... my precious Hiccup. Wow. So, are you thinking what I\\'m thinking? Yes, I am. - This isn\\'t working.\\n- What? Not working? You\\'re right, I should do it. No, no, don\\'t try and talk me out of it. I knew Stoick best. Ahem. If I don\\'t return, know that all I am, all I do... I miss him so much! I just need a moment. Ta-ta-da, we\\'re doomed. Gobber, the pageant\\'s tonight, so are you sure you\\'re gonna be able to do this? I hoped it wasn\\'t noticeable! You know, it is, but, Gobber, think of the kids. We\\'re doing this for them. Aye, Hiccup. Brilliant, as always. All right, I\\'m all right. I\\'m okay. It\\'s gonna be fine. Fine. What? Okay, people, two minutes to curtain. Has anyone seen my sword? Ooh-hoo-hoo! Hiccup, today is the day everything changes. I have tamed a dragon. I am so tiny and afraid. What is that? What is that? - That never happened!\\n- So Gobber took a few liberties. I don\\'t know, there... there were dragons everywhere and people doubting me, especially my own father. And then I stood my ground and touched one. I touched a dragon. That\\'s hardcore. He\\'s got the spirit of the story, and that\\'s what this pageant is really about, isn\\'t it? Yeah, I-I guess so. Hiccup, you are weak and fear dragons. I am strong and understand them. Honey, I don\\'t know if I wanna go through with this. - You\\'re on!\\n- Yeah, I... No. Uh, Astrid? I-I... What? A dragon! - There he is, the Night Fury.\\n- Ugh. - Look, it\\'s Toothless!\\n- Toothless! - Whoa!\\n- Nope. Mm, whatever. This pageant is bringing up the feelings. Stoick would have loved this! The only thing vaster than his\\npresence was his capacity for mirth! Oh, pookie-lump. Brave Father... I remember your wise words. Hiccup, you can be a giant, but face thine enemies with care. - Ah! Oh, no!\\n- Uh... Hiccup, you can be a giant... but face... Yo. Line! Toothless! - Hiccup, you can be a giant \"butt-face...\"\\n- Aah! Don\\'t panic! It\\'s just part of the show. Aah! Oh, no! Aah! Oh... Hey, you... aw! Do something! Yeah, I... I got it. Maybe this one. Why... Why would you give it that functionality? Aah! I\\'m on it! Yeah, I... I got it. Oh, no, no, no, no, no. Gobber! Gobber! Is that you? Thank you for helping out there. Ugh! What did you have, raw trout for lunch? Let me just shift my weight so I can... Aah! Aah! Um, Gobber? \"How did you lose your last two limbs, Gobber?\" - \"Oh, it was a pageant.\"\\n- Gobber? Uh? Hiccup! Whoa! Nice one, Hiccup! Greetings, magnificent creature! Will you allow Stoick to tame you with his gentle... touch? Let man and dragon be forever bonded in trust and love. - Yes!\\n- Yeah! Oh, thank you! Thank you, thank you! Thank you very much. Whoa! That was amazing! I\\'m so excited, I could fly! It\\'s just a show, Nuffink. - It\\'s just Dad in a suit.\\n- Best show yet! Way to go, Dad! Whoo-hoo! Hey, Dad! Dad? Hi. Little help here? Gobber? Anyone? Literally anyone. Oh! I love dragons! And I love Toothless! He\\'s beautiful! Why didn\\'t you tell me you were\\nreally going to bring him here? I have literally no idea what she\\'s talking about. This whole thing was not what I expected. Okay, how about now? A little... Oh, move it to the right. - Whoosh!\\n- I\\'m Stoick the Vast! I\\'m Toothless! Let\\'s be friends. - You were right.\\n- Whoa. It was exactly what everyone needed. For the kids and for the memory of my father. Oh. Gobber, you have well honored my father and your friend. It was my deepest privilege to do so. Thank you, Hiccup. Well... guess I\\'ll be heading home. Alone. Oh, the best Snoggletogs are spent\\nin solitary, cavernous silence. - Gobber...\\n- If you\\'re free tonight... I\\'d love to! Gobber, wait! - Why, that\\'s clever.\\n- And... You\\'re good. Ha! So proud. Whoa, look at that! It\\'s so cool! It\\'s beautiful! - Hiccup, did you do this?\\n- No. The bowl! It\\'s empty! - Toothless?\\n- Can it be? Toothless! Yeah! And then it hit me... ...our loved ones are always nearby... - Rawr!\\n- ...when we hold them in our hearts. Maybe it\\'s our turn to visit them. Whoa! Hey!'"
      ]
     },
     "execution_count": 32,
     "metadata": {},
     "output_type": "execute_result"
    }
   ],
   "source": [
    "# example subtitle text\n",
    "subs_df.loc[10, 'text']"
   ]
  },
  {
   "cell_type": "markdown",
   "id": "6565ca2b",
   "metadata": {},
   "source": [
    "### Обработка субтитров"
   ]
  },
  {
   "cell_type": "code",
   "execution_count": 33,
   "id": "0dcc43ea",
   "metadata": {},
   "outputs": [
    {
     "name": "stderr",
     "output_type": "stream",
     "text": [
      "[nltk_data] Downloading package stopwords to\n",
      "[nltk_data]     /Users/ktchka/nltk_data...\n",
      "[nltk_data]   Unzipping corpora/stopwords.zip.\n"
     ]
    }
   ],
   "source": [
    "# stopwords for English from nltk\n",
    "nltk.download('stopwords')\n",
    "stopwords = nltk_stopwords.words('english')\n",
    "\n",
    "# additional stopwords\n",
    "pronouns = ['I', 'me', 'you', 'he', 'she', 'it']\n",
    "articles = ['a', 'an', 'the']\n",
    "prepositions = ['in', 'on', 'at', 'by', 'to', 'for', 'from']\n",
    "conjunctions = ['and', 'but', 'or', 'yet']\n",
    "interjections = ['oh', 'shh', 'yeah', 'ah', 'uh', 'mmm']\n",
    "\n",
    "stopwords = stopwords + pronouns + articles + prepositions + conjunctions + interjections\n",
    "\n",
    "\n",
    "def clean_stopwords(text):\n",
    "    text = [word for word in text if word not in stopwords]\n",
    "    return \" \".join(text)\n"
   ]
  },
  {
   "cell_type": "code",
   "execution_count": 34,
   "id": "33c10f89",
   "metadata": {},
   "outputs": [],
   "source": [
    "# lemmatization\n",
    "nlp = spacy.load('en_core_web_sm')\n",
    "\n",
    "def lemmatize_text(text):\n",
    "    doc = nlp(text)\n",
    "    lemmas = [token.lemma_ for token in doc]\n",
    "    \n",
    "    return lemmas"
   ]
  },
  {
   "cell_type": "code",
   "execution_count": 35,
   "id": "29d029cd",
   "metadata": {},
   "outputs": [],
   "source": [
    "# regular expressions\n",
    "HTML = r'<.*?>' # html tags\n",
    "TAG = r'{.*?}'  # other tags\n",
    "COMMENTS = r'[\\(\\[][A-Za-z ]+[\\)\\]]' # comments\n",
    "UPPER = r'[[A-Za-z ]+[\\:\\]]'  # speakers names (BOBBY:)\n",
    "LETTERS = r'[^a-zA-Z\\'.,!? ]' # need only the letters \n",
    "APOSTROPHES = r' [A-Za-z]+\\'[A-Za-z]+ ' # delete words with apostrophes\n",
    "SPACES = r'([ ])\\1+' # multiple spaces\n",
    "SYMB = r\"[^\\w\\d'\\s]\" # puctuation marks\n",
    "\n",
    "\n",
    "def clean_text(text):\n",
    "    \"\"\"\n",
    "    Clean up the text by removing unnecessary elements.\n",
    "    \"\"\"    \n",
    "    # replace with a space\n",
    "    for element in [HTML, TAG, COMMENTS, UPPER, LETTERS, APOSTROPHES]:\n",
    "        text = re.sub(element, ' ', text) \n",
    "    \n",
    "    # replace with an empty string\n",
    "    text = re.sub(SYMB, '', text)\n",
    "    text = re.sub('www', '', text)\n",
    "    text = re.sub(\"''\", '', text)\n",
    "    \n",
    "    # spaces\n",
    "    text = re.sub(SPACES, r'\\1', text)\n",
    "    \n",
    "    # delete non-ascii characters\n",
    "    text = text.encode('ascii', 'ignore').decode() \n",
    "    \n",
    "    text = text.strip() # delete left and right spaces\n",
    "    text = text.lower() # lowercase\n",
    "\n",
    "    return text"
   ]
  },
  {
   "cell_type": "code",
   "execution_count": 36,
   "id": "57868a56",
   "metadata": {},
   "outputs": [],
   "source": [
    "# general function, which includes all steps\n",
    "def prepare_text(text):\n",
    "    \"\"\"\n",
    "    - удаляет некорректные символы\n",
    "    - делает лемматизацию\n",
    "    - удаляет стоп-слова\n",
    "    \"\"\"\n",
    "    text = clean_text(text)      \n",
    "    text = lemmatize_text(text)  \n",
    "    text = clean_stopwords(text)\n",
    "    \n",
    "    return text"
   ]
  },
  {
   "cell_type": "code",
   "execution_count": 37,
   "id": "0457272f",
   "metadata": {},
   "outputs": [
    {
     "name": "stdout",
     "output_type": "stream",
     "text": [
      "CPU times: user 7min 25s, sys: 17.3 s, total: 7min 42s\n",
      "Wall time: 7min 50s\n"
     ]
    },
    {
     "data": {
      "text/plain": [
       "\"new berk snoggletog great time year light hunt song holiday shopping huh skoal cheer yak nog shooter another round double thing miss dragon ten year since viking dragon agree live apart mean forget fly friend good part nuffink snoggletog eve make toothless favorite meal lake trout side sea trout bed brook trout like trout even though go still make lot family stuff like keep love one heart even though far away wanna help catch fish good go feed toothless need fishing pole dad butt wee fishie wee head ow ow ow come get toothless snack hey excited make traditional dragon feast hit everyone board yes work zephyr test dragon defense system grow new berk leave snack one show would great love dragon monster find attic grandpa 's come never tell truth dragon dragon wonderful friend tell giant well razor sharp tooth breathe fire suppose claw yes happen leg think maybe leave fish snack around attract 'cause know wanna dragon dessert nuffink wanna dessert dragon mm methink kill dragon happen ancestor terrify dragon know astrid let kid go road remember kid back old berk use put pageant snoggletog fun bring pageant back show child new berk human dragon become friend great idea get four day snoggletog three count black plague friday nothing gets shop cough spike think talk gobber ooh get kid take hit hey okay talk dragon kind make miss hard holiday know wonder toothless ever miss two curse ye hellion dare ye desecrate statue stoick vast stoick brave viking history berk put king vi king huh dear mate miss remember time mead house two visigoth wager hold left elbow boiling pot gruel five minute good time gobber hey kid talk statue father really pain wee one town forget stoick know zephyr afraid dragon wanna bring back snoggletog pageant luck script write last pageant die evil beast twisted souls viking forever swim river blood nasty age well mm may need start scratch show everything change would fantastic like meet toothless maybe big picture honey viking dragon become friend astrid love start write immediately go need honor friendship dragon course great friend stoick kay hiccup night first draft go honest brilliant toothless pretty great right amazing wait minute get idea use pageant well gee never think go make look much like toothless go fall love beautiful cog gear bring back warmth nose light eye sound good voice miss dad gobber make proud couple day snoggletog get excited pageant hit aah yes work go catch dragon dad knock cold eat zephyr design whole trap d'ah proud come nuffink set trap outside come go kill dragon say good knife help go kill dragon kid anybody okay go catch dragon pageant well work come great news chief exhaustive casting find hiccup gobber actually want ask whole hiccup character story hiccup present tuffnut tuffnut give taste dragon come aah help help line right great see run away fear look knock knee okay splayed gait newborn lamb run like run like bring big point um read script gobber note sure character hiccup come quite heroic pretty heroic mate think get gist way hey hiccup eh serious come well luck next time haggi nice effort next fishleg ingerman read role stoick vast return nope nope return know precious hiccup wow think think yes work work right try talk know stoick good ahem return know miss much need moment ta ta da doomed gobber tonight sure go able hope noticeable know gobber think kid aye hiccup brilliant always right right okay go fine fine okay people two minute curtain anyone see sword ooh hoo hoo hiccup today day everything change tame dragon tiny afraid never happen gobber take liberty know dragon everywhere people doubt especially father stand ground touch one touch dragon hardcore get spirit story pageant really guess hiccup weak fear dragon strong understand honey know wanna go astrid dragon night fury ugh look toothless toothless whoa nope mm whatever pageant bring feeling stoick would love thing vast presence capacity mirth pookie lump brave father remember wise word hiccup giant face thine enemy care hiccup giant face yo line toothless hiccup giant butt face aah panic part show aah aah hey aw something get maybe one would give functionality aah get gobber gobber thank help ugh raw trout lunch let shift weight aah aah um gobber lose last two limb gobber pageant gobber hiccup whoa nice one hiccup greeting magnificent creature allow stoick tame gentle touch let man dragon forever bond trust love yes thank thank thank thank much whoa amazing excited could fly show nuffink dad suit good show way go dad whoo hoo hey dad dad hi little help gobber anyone literally anyone love dragon love toothless beautiful tell really go bring literally idea talk whole thing expect okay little move right whoosh stoick vast toothless friend right whoa exactly everyone need kid memory father gobber well honor father friend deep privilege thank hiccup well guess head home alone good snoggletog spend solitary cavernous silence gobber free tonight love gobber wait clever good ha proud whoa look cool beautiful hiccup bowl empty toothless toothless hit love one always nearby rawr hold heart maybe turn visit whoa hey\""
      ]
     },
     "execution_count": 37,
     "metadata": {},
     "output_type": "execute_result"
    }
   ],
   "source": [
    "%%time\n",
    "\n",
    "subs_df['prepared_text'] = subs_df['text'].apply(prepare_text)\n",
    "subs_df.loc[10, 'prepared_text'] # example"
   ]
  },
  {
   "cell_type": "markdown",
   "id": "3742d0fd",
   "metadata": {},
   "source": [
    "### Обучение модели"
   ]
  },
  {
   "cell_type": "markdown",
   "id": "68f8ce71",
   "metadata": {},
   "source": []
  },
  {
   "cell_type": "code",
   "execution_count": 38,
   "id": "1be904c7",
   "metadata": {},
   "outputs": [],
   "source": [
    "X = subs_df['prepared_text'] # texts\n",
    "y = subs_df['level']         # target"
   ]
  },
  {
   "cell_type": "code",
   "execution_count": 39,
   "id": "114d4be3",
   "metadata": {},
   "outputs": [
    {
     "data": {
      "text/plain": [
       "(340, 114)"
      ]
     },
     "execution_count": 39,
     "metadata": {},
     "output_type": "execute_result"
    }
   ],
   "source": [
    "X_train, X_test, y_train, y_test = train_test_split(\n",
    "    X, y, test_size = 0.25, stratify=y, random_state = 123)\n",
    "\n",
    "X_train.shape[0], X_test.shape[0]"
   ]
  },
  {
   "cell_type": "code",
   "execution_count": 40,
   "id": "f3621806",
   "metadata": {},
   "outputs": [],
   "source": [
    "# pipeline\n",
    "pipe = Pipeline([\n",
    "    ('vect', CountVectorizer()),\n",
    "    ('tfidf', TfidfTransformer()),\n",
    "    ('clf', SGDClassifier(random_state=123))\n",
    "])"
   ]
  },
  {
   "cell_type": "code",
   "execution_count": 46,
   "id": "3be35550",
   "metadata": {},
   "outputs": [
    {
     "name": "stdout",
     "output_type": "stream",
     "text": [
      "Fitting 5 folds for each of 256 candidates, totalling 1280 fits\n",
      "Best parameters: {'clf__alpha': 0.001, 'clf__learning_rate': 'optimal', 'clf__loss': 'log_loss', 'clf__penalty': 'l2', 'vect__max_df': 1.0, 'vect__min_df': 0.01, 'vect__ngram_range': (1, 2)}\n",
      "Best score: 0.6687965068654365\n",
      "Times info:\n"
     ]
    },
    {
     "data": {
      "text/html": [
       "<div>\n",
       "<style scoped>\n",
       "    .dataframe tbody tr th:only-of-type {\n",
       "        vertical-align: middle;\n",
       "    }\n",
       "\n",
       "    .dataframe tbody tr th {\n",
       "        vertical-align: top;\n",
       "    }\n",
       "\n",
       "    .dataframe thead th {\n",
       "        text-align: right;\n",
       "    }\n",
       "</style>\n",
       "<table border=\"1\" class=\"dataframe\">\n",
       "  <thead>\n",
       "    <tr style=\"text-align: right;\">\n",
       "      <th></th>\n",
       "      <th>mean_fit_time</th>\n",
       "      <th>mean_score_time</th>\n",
       "    </tr>\n",
       "  </thead>\n",
       "  <tbody>\n",
       "    <tr>\n",
       "      <th>85</th>\n",
       "      <td>1.298927</td>\n",
       "      <td>0.228833</td>\n",
       "    </tr>\n",
       "  </tbody>\n",
       "</table>\n",
       "</div>"
      ],
      "text/plain": [
       "    mean_fit_time  mean_score_time\n",
       "85       1.298927         0.228833"
      ]
     },
     "metadata": {},
     "output_type": "display_data"
    }
   ],
   "source": [
    "params = {\n",
    "    'vect__max_df': [0.75, 1.0],\n",
    "    'vect__min_df': [0.01, 0.1],\n",
    "    'vect__ngram_range': [(1, 1), (1, 2)],\n",
    "    'clf__loss': ['hinge', 'log_loss'],      \n",
    "    'clf__alpha': [0.0001, 0.001, 0.01, 0.1],\n",
    "    'clf__penalty': ['l2', 'elasticnet'],\n",
    "    'clf__learning_rate': ['optimal', 'invscaling'],\n",
    "}\n",
    "\n",
    "\n",
    "grid = GridSearchCV(pipe, params, scoring='f1_macro', cv=5, n_jobs=4, verbose=1)\n",
    "grid.fit(X_train, y_train)\n",
    "\n",
    "print(\"Best parameters: {}\".format(grid.best_params_))\n",
    "print(\"Best score: {}\".format(grid.best_score_))\n",
    "print(\"Times info:\")\n",
    "display(pd.DataFrame(grid.cv_results_).query('rank_test_score == 1')[['mean_fit_time', 'mean_score_time']])\n"
   ]
  },
  {
   "cell_type": "code",
   "execution_count": 47,
   "id": "cba6f3bb",
   "metadata": {},
   "outputs": [
    {
     "name": "stdout",
     "output_type": "stream",
     "text": [
      "F1 score for test set: 0.639\n"
     ]
    }
   ],
   "source": [
    "# final testing\n",
    "pipe_final = Pipeline([\n",
    "    ('vect', CountVectorizer(max_df=1.0, min_df=0.01, ngram_range=(1, 2))),\n",
    "    ('tfidf', TfidfTransformer()),\n",
    "    ('clf', SGDClassifier(loss='log', \n",
    "                          alpha=0.001, \n",
    "                          penalty='l2', \n",
    "                          learning_rate='optimal',\n",
    "                          random_state=123))\n",
    "])\n",
    "\n",
    "pipe_final.fit(X_train, y_train)\n",
    "predictions = pipe_final.predict(X_test)\n",
    "f1 = f1_score(y_test, predictions, average='macro')\n",
    "print(f'F1 score for test set: {round(f1, 3)}')\n"
   ]
  },
  {
   "cell_type": "code",
   "execution_count": 48,
   "id": "60eb76f3",
   "metadata": {},
   "outputs": [],
   "source": [
    "# export model to file\n",
    "with open('sgd_model.pcl', 'wb') as fid:\n",
    "    dump(pipe_final, fid)"
   ]
  },
  {
   "cell_type": "markdown",
   "id": "60d0e1ef",
   "metadata": {},
   "source": [
    "## Вывод\n",
    "\n",
    "Целью данного проекта была разработка модели для определения уровня сложности англоязычных фильмов. Был выбран алгоритм SGDClassifier. Наилучший f1_score - 0,632.\n",
    "\n",
    "Для достижения этого результата текстовые данные были сначала предварительно обработаны путем удаления ненужных фрагментов и стоп-слов, лемматизации слов, а также преобразования текста в числовые характеристики с помощью CountVectorizer и TfidfTransformer. Затем был использован алгоритм SGDClassifier с GridSearchCV для оптимизации гиперпараметров.\n"
   ]
  },
  {
   "cell_type": "code",
   "execution_count": null,
   "id": "ddb5397a",
   "metadata": {},
   "outputs": [],
   "source": []
  }
 ],
 "metadata": {
  "kernelspec": {
   "display_name": "Python 3 (ipykernel)",
   "language": "python",
   "name": "python3"
  },
  "language_info": {
   "codemirror_mode": {
    "name": "ipython",
    "version": 3
   },
   "file_extension": ".py",
   "mimetype": "text/x-python",
   "name": "python",
   "nbconvert_exporter": "python",
   "pygments_lexer": "ipython3",
   "version": "3.11.2"
  }
 },
 "nbformat": 4,
 "nbformat_minor": 5
}
